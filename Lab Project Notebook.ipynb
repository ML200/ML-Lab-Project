{
 "cells": [
  {
   "cell_type": "markdown",
   "id": "5dab942d",
   "metadata": {},
   "source": [
    "# Machine Learning Lab Project - Credit Card Overdue Likelihood Prediction\n",
    "##  Business Understanding"
   ]
  },
  {
   "cell_type": "markdown",
   "id": "2d7e57de",
   "metadata": {},
   "source": [
    "## Data Understanding\n",
    "The data for this task is taken from [this](https://www.kaggle.com/datasets/rikdifos/credit-card-approval-prediction) kaggle dataset. The kaggle page provides two `.csv` files:\n",
    "- application_record.csv\n",
    "- credit_record.csv\n",
    "\n",
    "On a simple level, `application_record.csv` contains the customer data and `credit_record.csv` contains the customers credit history. The specific content is now investigated further.\n",
    "\n",
    "For beeing able to analyse the datasets, the necessary libraries are imported first:"
   ]
  },
  {
   "cell_type": "code",
   "execution_count": 2,
   "id": "511113b5",
   "metadata": {},
   "outputs": [],
   "source": [
    "import pandas as pd"
   ]
  },
  {
   "cell_type": "markdown",
   "id": "ec1c65ba",
   "metadata": {},
   "source": [
    "In this next step the two `.csv` files are loaded into a pandas datafram. This enables an analysis with the full pandas funcionality, which makes the data understanding process way easier."
   ]
  },
  {
   "cell_type": "code",
   "execution_count": 3,
   "id": "2b7027e5",
   "metadata": {},
   "outputs": [],
   "source": [
    "customer_df = pd.read_csv(\"Data/application_record.csv\")\n",
    "credit_df = pd.read_csv(\"Data/credit_record.csv\")"
   ]
  },
  {
   "cell_type": "markdown",
   "id": "f6d875a2",
   "metadata": {},
   "source": [
    "### application_record.csv\n",
    "First, it is important to analyse the columns of the dataset:"
   ]
  },
  {
   "cell_type": "code",
   "execution_count": 4,
   "id": "0fd8bf95",
   "metadata": {},
   "outputs": [
    {
     "name": "stdout",
     "output_type": "stream",
     "text": [
      "<class 'pandas.core.frame.DataFrame'>\n",
      "RangeIndex: 438557 entries, 0 to 438556\n",
      "Data columns (total 18 columns):\n",
      " #   Column               Non-Null Count   Dtype  \n",
      "---  ------               --------------   -----  \n",
      " 0   ID                   438557 non-null  int64  \n",
      " 1   CODE_GENDER          438557 non-null  object \n",
      " 2   FLAG_OWN_CAR         438557 non-null  object \n",
      " 3   FLAG_OWN_REALTY      438557 non-null  object \n",
      " 4   CNT_CHILDREN         438557 non-null  int64  \n",
      " 5   AMT_INCOME_TOTAL     438557 non-null  float64\n",
      " 6   NAME_INCOME_TYPE     438557 non-null  object \n",
      " 7   NAME_EDUCATION_TYPE  438557 non-null  object \n",
      " 8   NAME_FAMILY_STATUS   438557 non-null  object \n",
      " 9   NAME_HOUSING_TYPE    438557 non-null  object \n",
      " 10  DAYS_BIRTH           438557 non-null  int64  \n",
      " 11  DAYS_EMPLOYED        438557 non-null  int64  \n",
      " 12  FLAG_MOBIL           438557 non-null  int64  \n",
      " 13  FLAG_WORK_PHONE      438557 non-null  int64  \n",
      " 14  FLAG_PHONE           438557 non-null  int64  \n",
      " 15  FLAG_EMAIL           438557 non-null  int64  \n",
      " 16  OCCUPATION_TYPE      304354 non-null  object \n",
      " 17  CNT_FAM_MEMBERS      438557 non-null  float64\n",
      "dtypes: float64(2), int64(8), object(8)\n",
      "memory usage: 60.2+ MB\n"
     ]
    }
   ],
   "source": [
    "customer_df.info()"
   ]
  },
  {
   "cell_type": "markdown",
   "id": "4829b5e2",
   "metadata": {},
   "source": [
    "As can be seen above, the dataset consists of 17 columns, containing numeral as well as textual data. It also seems as if there is already an unique identifier for every customer in the column `ID`. A concrete description fo these different columns can be retrieved from the datasets [kaggle page](https://www.kaggle.com/datasets/rikdifos/credit-card-approval-prediction/data):\n",
    "\n",
    "|Feature name|Explanation|Remarks|\n",
    "|:-----------|:----------|:------|\n",
    "|ID \t     |Client number||\n",
    "|CODE_GENDER |\tGender \t||\n",
    "|FLAG_OWN_CAR| \tIs there a car \t||\n",
    "|FLAG_OWN_REALTY| \tIs there a property|| \t\n",
    "|CNT_CHILDREN| \tNumber of children \t||\n",
    "|AMT_INCOME_TOTAL| \tAnnual income \t||\n",
    "|NAME_INCOME_TYPE| \tIncome category \t||\n",
    "|NAME_EDUCATION_TYPE| \tEducation level ||\t\n",
    "|NAME_FAMILY_STATUS| \tMarital status \t||\n",
    "|NAME_HOUSING_TYPE| \tWay of living \t||\n",
    "|DAYS_BIRTH| \tBirthday |\tCount backwards from current day (0), -1 means yesterday|\n",
    "|DAYS_EMPLOYED| \tStart date of employment |\tCount backwards from current day(0). If positive, it means the person currently  unemployed.|\n",
    "|FLAG_MOBIL| \tIs there a mobile phone \t||\n",
    "|FLAG_WORK_PHONE| \tIs there a work phone \t||\n",
    "|FLAG_PHONE| \tIs there a phone \t||\n",
    "|FLAG_EMAIL| \tIs there an email \t||\n",
    "|OCCUPATION_TYPE| \tOccupation \t||\n",
    "|CNT_FAM_MEMBERS| \tFamily size||\n",
    "\n",
    "Now that the purpose of the columns is clear, the actual data can be analyzed:"
   ]
  },
  {
   "cell_type": "code",
   "execution_count": 5,
   "id": "104517cc",
   "metadata": {},
   "outputs": [
    {
     "data": {
      "text/html": [
       "<div>\n",
       "<style scoped>\n",
       "    .dataframe tbody tr th:only-of-type {\n",
       "        vertical-align: middle;\n",
       "    }\n",
       "\n",
       "    .dataframe tbody tr th {\n",
       "        vertical-align: top;\n",
       "    }\n",
       "\n",
       "    .dataframe thead th {\n",
       "        text-align: right;\n",
       "    }\n",
       "</style>\n",
       "<table border=\"1\" class=\"dataframe\">\n",
       "  <thead>\n",
       "    <tr style=\"text-align: right;\">\n",
       "      <th></th>\n",
       "      <th>ID</th>\n",
       "      <th>CODE_GENDER</th>\n",
       "      <th>FLAG_OWN_CAR</th>\n",
       "      <th>FLAG_OWN_REALTY</th>\n",
       "      <th>CNT_CHILDREN</th>\n",
       "      <th>AMT_INCOME_TOTAL</th>\n",
       "      <th>NAME_INCOME_TYPE</th>\n",
       "      <th>NAME_EDUCATION_TYPE</th>\n",
       "      <th>NAME_FAMILY_STATUS</th>\n",
       "      <th>NAME_HOUSING_TYPE</th>\n",
       "      <th>DAYS_BIRTH</th>\n",
       "      <th>DAYS_EMPLOYED</th>\n",
       "      <th>FLAG_MOBIL</th>\n",
       "      <th>FLAG_WORK_PHONE</th>\n",
       "      <th>FLAG_PHONE</th>\n",
       "      <th>FLAG_EMAIL</th>\n",
       "      <th>OCCUPATION_TYPE</th>\n",
       "      <th>CNT_FAM_MEMBERS</th>\n",
       "    </tr>\n",
       "  </thead>\n",
       "  <tbody>\n",
       "    <tr>\n",
       "      <th>0</th>\n",
       "      <td>5008804</td>\n",
       "      <td>M</td>\n",
       "      <td>Y</td>\n",
       "      <td>Y</td>\n",
       "      <td>0</td>\n",
       "      <td>427500.0</td>\n",
       "      <td>Working</td>\n",
       "      <td>Higher education</td>\n",
       "      <td>Civil marriage</td>\n",
       "      <td>Rented apartment</td>\n",
       "      <td>-12005</td>\n",
       "      <td>-4542</td>\n",
       "      <td>1</td>\n",
       "      <td>1</td>\n",
       "      <td>0</td>\n",
       "      <td>0</td>\n",
       "      <td>NaN</td>\n",
       "      <td>2.0</td>\n",
       "    </tr>\n",
       "    <tr>\n",
       "      <th>1</th>\n",
       "      <td>5008805</td>\n",
       "      <td>M</td>\n",
       "      <td>Y</td>\n",
       "      <td>Y</td>\n",
       "      <td>0</td>\n",
       "      <td>427500.0</td>\n",
       "      <td>Working</td>\n",
       "      <td>Higher education</td>\n",
       "      <td>Civil marriage</td>\n",
       "      <td>Rented apartment</td>\n",
       "      <td>-12005</td>\n",
       "      <td>-4542</td>\n",
       "      <td>1</td>\n",
       "      <td>1</td>\n",
       "      <td>0</td>\n",
       "      <td>0</td>\n",
       "      <td>NaN</td>\n",
       "      <td>2.0</td>\n",
       "    </tr>\n",
       "    <tr>\n",
       "      <th>2</th>\n",
       "      <td>5008806</td>\n",
       "      <td>M</td>\n",
       "      <td>Y</td>\n",
       "      <td>Y</td>\n",
       "      <td>0</td>\n",
       "      <td>112500.0</td>\n",
       "      <td>Working</td>\n",
       "      <td>Secondary / secondary special</td>\n",
       "      <td>Married</td>\n",
       "      <td>House / apartment</td>\n",
       "      <td>-21474</td>\n",
       "      <td>-1134</td>\n",
       "      <td>1</td>\n",
       "      <td>0</td>\n",
       "      <td>0</td>\n",
       "      <td>0</td>\n",
       "      <td>Security staff</td>\n",
       "      <td>2.0</td>\n",
       "    </tr>\n",
       "    <tr>\n",
       "      <th>3</th>\n",
       "      <td>5008808</td>\n",
       "      <td>F</td>\n",
       "      <td>N</td>\n",
       "      <td>Y</td>\n",
       "      <td>0</td>\n",
       "      <td>270000.0</td>\n",
       "      <td>Commercial associate</td>\n",
       "      <td>Secondary / secondary special</td>\n",
       "      <td>Single / not married</td>\n",
       "      <td>House / apartment</td>\n",
       "      <td>-19110</td>\n",
       "      <td>-3051</td>\n",
       "      <td>1</td>\n",
       "      <td>0</td>\n",
       "      <td>1</td>\n",
       "      <td>1</td>\n",
       "      <td>Sales staff</td>\n",
       "      <td>1.0</td>\n",
       "    </tr>\n",
       "    <tr>\n",
       "      <th>4</th>\n",
       "      <td>5008809</td>\n",
       "      <td>F</td>\n",
       "      <td>N</td>\n",
       "      <td>Y</td>\n",
       "      <td>0</td>\n",
       "      <td>270000.0</td>\n",
       "      <td>Commercial associate</td>\n",
       "      <td>Secondary / secondary special</td>\n",
       "      <td>Single / not married</td>\n",
       "      <td>House / apartment</td>\n",
       "      <td>-19110</td>\n",
       "      <td>-3051</td>\n",
       "      <td>1</td>\n",
       "      <td>0</td>\n",
       "      <td>1</td>\n",
       "      <td>1</td>\n",
       "      <td>Sales staff</td>\n",
       "      <td>1.0</td>\n",
       "    </tr>\n",
       "  </tbody>\n",
       "</table>\n",
       "</div>"
      ],
      "text/plain": [
       "        ID CODE_GENDER FLAG_OWN_CAR FLAG_OWN_REALTY  CNT_CHILDREN  \\\n",
       "0  5008804           M            Y               Y             0   \n",
       "1  5008805           M            Y               Y             0   \n",
       "2  5008806           M            Y               Y             0   \n",
       "3  5008808           F            N               Y             0   \n",
       "4  5008809           F            N               Y             0   \n",
       "\n",
       "   AMT_INCOME_TOTAL      NAME_INCOME_TYPE            NAME_EDUCATION_TYPE  \\\n",
       "0          427500.0               Working               Higher education   \n",
       "1          427500.0               Working               Higher education   \n",
       "2          112500.0               Working  Secondary / secondary special   \n",
       "3          270000.0  Commercial associate  Secondary / secondary special   \n",
       "4          270000.0  Commercial associate  Secondary / secondary special   \n",
       "\n",
       "     NAME_FAMILY_STATUS  NAME_HOUSING_TYPE  DAYS_BIRTH  DAYS_EMPLOYED  \\\n",
       "0        Civil marriage   Rented apartment      -12005          -4542   \n",
       "1        Civil marriage   Rented apartment      -12005          -4542   \n",
       "2               Married  House / apartment      -21474          -1134   \n",
       "3  Single / not married  House / apartment      -19110          -3051   \n",
       "4  Single / not married  House / apartment      -19110          -3051   \n",
       "\n",
       "   FLAG_MOBIL  FLAG_WORK_PHONE  FLAG_PHONE  FLAG_EMAIL OCCUPATION_TYPE  \\\n",
       "0           1                1           0           0             NaN   \n",
       "1           1                1           0           0             NaN   \n",
       "2           1                0           0           0  Security staff   \n",
       "3           1                0           1           1     Sales staff   \n",
       "4           1                0           1           1     Sales staff   \n",
       "\n",
       "   CNT_FAM_MEMBERS  \n",
       "0              2.0  \n",
       "1              2.0  \n",
       "2              2.0  \n",
       "3              1.0  \n",
       "4              1.0  "
      ]
     },
     "execution_count": 5,
     "metadata": {},
     "output_type": "execute_result"
    }
   ],
   "source": [
    "customer_df.head()"
   ]
  },
  {
   "cell_type": "markdown",
   "id": "0fef6505",
   "metadata": {},
   "source": [
    "From these first five entries several things can be observed:\n",
    "1. The ID does not start from 0 but seems to be unique.\n",
    "2. For the `CODE_GENDER` the flags `F` (Female) and `M` (Male) are used.\n",
    "3. For `FLAG_OWN_CAR` and `FLAG_OWN_REALTY` the flags `Y` (Yes) and `N` (No) are used.\n",
    "4. For `NAME_INCOME_TYPE`, `NAME_EDUCATION_TYPE`, `NAME_FAMILY_STATUS` and `NAME_HOUSING_TYPE` are textual fields, but seem to have only a few different values.\n",
    "5. `OCCUPATION_TYPE` is a textual field and the values seem to be very different (\"Freetext Field\").\n",
    "6. For `FLAG_MOBIL`, `FLAG_WORK_PHONE`, `FLAG_PHONE` and `FLAG_EMAIL` the flags 1 (Yes) and 0 (No) are used.\n",
    "\n",
    "Before basing the data perparation on these findings, the assumptions have to be validated:\n",
    "\n",
    "#### 1. Unique `ID`"
   ]
  },
  {
   "cell_type": "code",
   "execution_count": 6,
   "id": "21461759",
   "metadata": {
    "scrolled": true
   },
   "outputs": [
    {
     "data": {
      "text/plain": [
       "ID\n",
       "7137299    2\n",
       "7702238    2\n",
       "7282535    2\n",
       "7243768    2\n",
       "7050948    2\n",
       "          ..\n",
       "5690727    1\n",
       "6621262    1\n",
       "6621261    1\n",
       "6621260    1\n",
       "6842885    1\n",
       "Name: count, Length: 438510, dtype: int64"
      ]
     },
     "execution_count": 6,
     "metadata": {},
     "output_type": "execute_result"
    }
   ],
   "source": [
    "customer_df['ID'].value_counts()"
   ]
  },
  {
   "cell_type": "markdown",
   "id": "fa7df86a",
   "metadata": {},
   "source": [
    "The ouptut of the value count clearly shows that not every ID is unique. As some IDs are contained twice, the real amout of customers contained in the dataset is only 438510.\n",
    "#### 2. Gender"
   ]
  },
  {
   "cell_type": "code",
   "execution_count": 7,
   "id": "97081a13",
   "metadata": {},
   "outputs": [
    {
     "data": {
      "text/plain": [
       "CODE_GENDER\n",
       "F    294440\n",
       "M    144117\n",
       "Name: count, dtype: int64"
      ]
     },
     "execution_count": 7,
     "metadata": {},
     "output_type": "execute_result"
    }
   ],
   "source": [
    "customer_df['CODE_GENDER'].value_counts()"
   ]
  },
  {
   "cell_type": "markdown",
   "id": "57f68775",
   "metadata": {},
   "source": [
    "For the gender the assumption that only the flags `F` and `M` are used was correct.\n",
    "#### 3. Flag Car / Real-Estate"
   ]
  },
  {
   "cell_type": "code",
   "execution_count": 8,
   "id": "ea31e73c",
   "metadata": {},
   "outputs": [
    {
     "name": "stdout",
     "output_type": "stream",
     "text": [
      "FLAG_OWN_CAR\n",
      "N    275459\n",
      "Y    163098\n",
      "Name: count, dtype: int64\n",
      "FLAG_OWN_REALTY\n",
      "Y    304074\n",
      "N    134483\n",
      "Name: count, dtype: int64\n"
     ]
    }
   ],
   "source": [
    "print(customer_df['FLAG_OWN_CAR'].value_counts())\n",
    "print(customer_df['FLAG_OWN_REALTY'].value_counts())"
   ]
  },
  {
   "cell_type": "markdown",
   "id": "9959af81",
   "metadata": {},
   "source": [
    "Also for the flags for the possesion of car and real-estate the assumption that there are only the flags `Y` and `N` was correct.\n",
    "#### 4. Text fields income, education, family and housing"
   ]
  },
  {
   "cell_type": "code",
   "execution_count": 9,
   "id": "2d09f567",
   "metadata": {},
   "outputs": [
    {
     "data": {
      "text/plain": [
       "NAME_INCOME_TYPE\n",
       "Working                 226104\n",
       "Commercial associate    100757\n",
       "Pensioner                75493\n",
       "State servant            36186\n",
       "Student                     17\n",
       "Name: count, dtype: int64"
      ]
     },
     "execution_count": 9,
     "metadata": {},
     "output_type": "execute_result"
    }
   ],
   "source": [
    "customer_df['NAME_INCOME_TYPE'].value_counts()"
   ]
  },
  {
   "cell_type": "markdown",
   "id": "92a80281",
   "metadata": {},
   "source": [
    "As can be seen above, there are five different types of income. This means the column can be encoded without any problems and can be used for the modeling later."
   ]
  },
  {
   "cell_type": "code",
   "execution_count": 10,
   "id": "b7e98f96",
   "metadata": {},
   "outputs": [
    {
     "data": {
      "text/plain": [
       "NAME_EDUCATION_TYPE\n",
       "Secondary / secondary special    301821\n",
       "Higher education                 117522\n",
       "Incomplete higher                 14851\n",
       "Lower secondary                    4051\n",
       "Academic degree                     312\n",
       "Name: count, dtype: int64"
      ]
     },
     "execution_count": 10,
     "metadata": {},
     "output_type": "execute_result"
    }
   ],
   "source": [
    "customer_df['NAME_EDUCATION_TYPE'].value_counts()"
   ]
  },
  {
   "cell_type": "markdown",
   "id": "f773a454",
   "metadata": {},
   "source": [
    "The education field also consists of only five types and can therefore also be used for modelling without any problems."
   ]
  },
  {
   "cell_type": "code",
   "execution_count": 11,
   "id": "ac363c26",
   "metadata": {},
   "outputs": [
    {
     "data": {
      "text/plain": [
       "NAME_FAMILY_STATUS\n",
       "Married                 299828\n",
       "Single / not married     55271\n",
       "Civil marriage           36532\n",
       "Separated                27251\n",
       "Widow                    19675\n",
       "Name: count, dtype: int64"
      ]
     },
     "execution_count": 11,
     "metadata": {},
     "output_type": "execute_result"
    }
   ],
   "source": [
    "customer_df['NAME_FAMILY_STATUS'].value_counts()"
   ]
  },
  {
   "cell_type": "markdown",
   "id": "686e7be1",
   "metadata": {},
   "source": [
    "Also the family status has five different values."
   ]
  },
  {
   "cell_type": "code",
   "execution_count": 12,
   "id": "75506a47",
   "metadata": {},
   "outputs": [
    {
     "data": {
      "text/plain": [
       "NAME_HOUSING_TYPE\n",
       "House / apartment      393831\n",
       "With parents            19077\n",
       "Municipal apartment     14214\n",
       "Rented apartment         5974\n",
       "Office apartment         3922\n",
       "Co-op apartment          1539\n",
       "Name: count, dtype: int64"
      ]
     },
     "execution_count": 12,
     "metadata": {},
     "output_type": "execute_result"
    }
   ],
   "source": [
    "customer_df['NAME_HOUSING_TYPE'].value_counts()"
   ]
  },
  {
   "cell_type": "markdown",
   "id": "2f2fc144",
   "metadata": {},
   "source": [
    "The housing has six different values, which is still acceptable.\n",
    "#### 5. Text field occupation type"
   ]
  },
  {
   "cell_type": "code",
   "execution_count": 13,
   "id": "e8524c65",
   "metadata": {},
   "outputs": [
    {
     "name": "stdout",
     "output_type": "stream",
     "text": [
      "OCCUPATION_TYPE\n",
      "Laborers                 78240\n",
      "Core staff               43007\n",
      "Sales staff              41098\n",
      "Managers                 35487\n",
      "Drivers                  26090\n",
      "High skill tech staff    17289\n",
      "Accountants              15985\n",
      "Medicine staff           13520\n",
      "Cooking staff             8076\n",
      "Security staff            7993\n",
      "Cleaning staff            5845\n",
      "Private service staff     3456\n",
      "Low-skill Laborers        2140\n",
      "Secretaries               2044\n",
      "Waiters/barmen staff      1665\n",
      "Realty agents             1041\n",
      "HR staff                   774\n",
      "IT staff                   604\n",
      "Name: count, dtype: int64\n",
      "Amount of null values:  134203\n"
     ]
    }
   ],
   "source": [
    "print(customer_df['OCCUPATION_TYPE'].value_counts())\n",
    "print(\"Amount of null values: \", customer_df['OCCUPATION_TYPE'].isnull().sum())"
   ]
  },
  {
   "cell_type": "markdown",
   "id": "4c95a81d",
   "metadata": {},
   "source": [
    "Even though there are way less different values than expected (only 18), the column contains many null values, which may make it difficult to work with it.\n",
    "#### 6. Contact method flags"
   ]
  },
  {
   "cell_type": "code",
   "execution_count": 14,
   "id": "cc0977c1",
   "metadata": {},
   "outputs": [
    {
     "name": "stdout",
     "output_type": "stream",
     "text": [
      "FLAG_MOBIL\n",
      "1    438557\n",
      "Name: count, dtype: int64\n",
      "FLAG_WORK_PHONE\n",
      "0    348156\n",
      "1     90401\n",
      "Name: count, dtype: int64\n",
      "FLAG_PHONE\n",
      "0    312353\n",
      "1    126204\n",
      "Name: count, dtype: int64\n",
      "FLAG_EMAIL\n",
      "0    391102\n",
      "1     47455\n",
      "Name: count, dtype: int64\n"
     ]
    }
   ],
   "source": [
    "print(customer_df['FLAG_MOBIL'].value_counts())\n",
    "print(customer_df['FLAG_WORK_PHONE'].value_counts())\n",
    "print(customer_df['FLAG_PHONE'].value_counts())\n",
    "print(customer_df['FLAG_EMAIL'].value_counts())"
   ]
  },
  {
   "cell_type": "markdown",
   "id": "476de097",
   "metadata": {},
   "source": [
    "As expected, these columns only use the flags `1` and `0`. On top of that, column `FLAG_MOBIL` only contains the value `1`, which means all customers at least are registered with a mobile phone. Therefore, this column can be left out completely.\n",
    "### credit_record.csv\n",
    "Again, first analyze the columns:"
   ]
  },
  {
   "cell_type": "code",
   "execution_count": 15,
   "id": "476f8561",
   "metadata": {},
   "outputs": [
    {
     "name": "stdout",
     "output_type": "stream",
     "text": [
      "<class 'pandas.core.frame.DataFrame'>\n",
      "RangeIndex: 1048575 entries, 0 to 1048574\n",
      "Data columns (total 3 columns):\n",
      " #   Column          Non-Null Count    Dtype \n",
      "---  ------          --------------    ----- \n",
      " 0   ID              1048575 non-null  int64 \n",
      " 1   MONTHS_BALANCE  1048575 non-null  int64 \n",
      " 2   STATUS          1048575 non-null  object\n",
      "dtypes: int64(2), object(1)\n",
      "memory usage: 24.0+ MB\n"
     ]
    }
   ],
   "source": [
    "credit_df.info()"
   ]
  },
  {
   "cell_type": "markdown",
   "id": "d11dd607",
   "metadata": {},
   "source": [
    "As can be seen above, this table only contains three columns. According to the [kaggle page](https://www.kaggle.com/datasets/rikdifos/credit-card-approval-prediction/data), these columns mean the following:\n",
    "\n",
    "|Feature name| \tExplanation |\tRemarks|\n",
    "|:-|:-|:-|\n",
    "|ID |\tClient number \t||\n",
    "|MONTHS_BALANCE |\tRecord month |\tThe month of the extracted data is the starting point, backwards, 0 is the current month, -1 is the previous month, and so on|\n",
    "|STATUS |\tStatus| \t0: 1-29 days past due 1: 30-59 days past due 2: 60-89 days overdue 3: 90-119 days overdue 4: 120-149 days overdue 5: Overdue or bad debts, write-offs for more than 150 days C: paid off that month X: No loan for the month|\n",
    "\n",
    "Checking for unique `ID` values now reveals for how many customers there exists credit data:"
   ]
  },
  {
   "cell_type": "code",
   "execution_count": 18,
   "id": "04598c16",
   "metadata": {},
   "outputs": [
    {
     "data": {
      "text/plain": [
       "45985"
      ]
     },
     "execution_count": 18,
     "metadata": {},
     "output_type": "execute_result"
    }
   ],
   "source": [
    "len(credit_df['ID'].unique())"
   ]
  },
  {
   "cell_type": "markdown",
   "id": "6412dea0",
   "metadata": {},
   "source": [
    "There is only credit data for 45985 customers, that means only parts of the `customer_df` can be used.\n",
    "As a last step check the values of the `STATUS` column:"
   ]
  },
  {
   "cell_type": "code",
   "execution_count": 19,
   "id": "8d0e561b",
   "metadata": {
    "scrolled": true
   },
   "outputs": [
    {
     "data": {
      "text/plain": [
       "STATUS\n",
       "C    442031\n",
       "0    383120\n",
       "X    209230\n",
       "1     11090\n",
       "5      1693\n",
       "2       868\n",
       "3       320\n",
       "4       223\n",
       "Name: count, dtype: int64"
      ]
     },
     "execution_count": 19,
     "metadata": {},
     "output_type": "execute_result"
    }
   ],
   "source": [
    "credit_df['STATUS'].value_counts()"
   ]
  },
  {
   "cell_type": "markdown",
   "id": "9aef28f9",
   "metadata": {},
   "source": [
    "The information given on the kaggle page is correct, only the stated flags are used.\n",
    "### Summary\n",
    "Overall, the dataset consists of two parts: the customer data and the credit data. The customer data mostly contains information about income, job, family situation and contact methods as these are important aspects for evaluating the creditworthiness. The credit data is basically a credit history overview, showing for a given custumer and month if the credit was paid back on time. This credit data can now be used for calculating an \"overdue_likelyhood\" for every customer which states how likely it is for this specific customer to not pay it's credit back in time. This is an important information for a credit institute. Based on all the findings in this section the two datasets can now be prepared, connected and finally used for training a machine learning model."
   ]
  },
  {
   "cell_type": "markdown",
   "id": "61340257",
   "metadata": {},
   "source": [
    "## Data Preparation"
   ]
  },
  {
   "cell_type": "markdown",
   "id": "c37e164e",
   "metadata": {},
   "source": [
    "Get the overdue likelyhood for the customers:"
   ]
  },
  {
   "cell_type": "code",
   "execution_count": 8,
   "id": "d62cc308",
   "metadata": {},
   "outputs": [
    {
     "name": "stdout",
     "output_type": "stream",
     "text": [
      "STATUS       ID  overdue_likelihood\n",
      "0       5001711            1.000000\n",
      "1       5001712            0.526316\n",
      "2       5001713                 NaN\n",
      "3       5001714                 NaN\n",
      "4       5001715                 NaN\n",
      "The number of entries with NaN values in overdue_likelihood: 4536\n"
     ]
    }
   ],
   "source": [
    "import pandas as pd\n",
    "\n",
    "grouped_df = credit_df.groupby('ID')['STATUS'].value_counts().unstack(fill_value=0)\n",
    "\n",
    "grouped_df['overdue_likelihood'] = 1 - (grouped_df['C'] / (grouped_df.sum(axis=1) - grouped_df['X']))\n",
    "\n",
    "result_df = grouped_df.reset_index()[['ID', 'overdue_likelihood']]\n",
    "\n",
    "print(result_df.head())\n",
    "\n",
    "nan_count = result_df['overdue_likelihood'].isna().sum()\n",
    "\n",
    "print(f'The number of entries with NaN values in overdue_likelihood: {nan_count}')\n"
   ]
  },
  {
   "cell_type": "markdown",
   "id": "91ff13a5",
   "metadata": {},
   "source": [
    "That means ca. 33110 customers are really usable."
   ]
  },
  {
   "cell_type": "markdown",
   "id": "2a2aa80c",
   "metadata": {},
   "source": [
    "Remove NaN entrys"
   ]
  },
  {
   "cell_type": "code",
   "execution_count": 9,
   "id": "2461462c",
   "metadata": {},
   "outputs": [
    {
     "name": "stdout",
     "output_type": "stream",
     "text": [
      "The number of entries with NaN values in overdue_likelihood: 0\n"
     ]
    }
   ],
   "source": [
    "result_df.dropna(subset=['overdue_likelihood'], inplace=True)\n",
    "nan_count = result_df['overdue_likelihood'].isna().sum()\n",
    "\n",
    "print(f'The number of entries with NaN values in overdue_likelihood: {nan_count}')"
   ]
  },
  {
   "cell_type": "markdown",
   "id": "421c5c50",
   "metadata": {},
   "source": [
    "Merge the data:"
   ]
  },
  {
   "cell_type": "code",
   "execution_count": 10,
   "id": "79178d71",
   "metadata": {},
   "outputs": [
    {
     "name": "stdout",
     "output_type": "stream",
     "text": [
      "        ID CODE_GENDER FLAG_OWN_CAR FLAG_OWN_REALTY  CNT_CHILDREN  \\\n",
      "0  5008804           M            Y               Y             0   \n",
      "1  5008805           M            Y               Y             0   \n",
      "2  5008806           M            Y               Y             0   \n",
      "3  5008808           F            N               Y             0   \n",
      "4  5008810           F            N               Y             0   \n",
      "\n",
      "   AMT_INCOME_TOTAL      NAME_INCOME_TYPE            NAME_EDUCATION_TYPE  \\\n",
      "0          427500.0               Working               Higher education   \n",
      "1          427500.0               Working               Higher education   \n",
      "2          112500.0               Working  Secondary / secondary special   \n",
      "3          270000.0  Commercial associate  Secondary / secondary special   \n",
      "4          270000.0  Commercial associate  Secondary / secondary special   \n",
      "\n",
      "     NAME_FAMILY_STATUS  NAME_HOUSING_TYPE  DAYS_BIRTH  DAYS_EMPLOYED  \\\n",
      "0        Civil marriage   Rented apartment      -12005          -4542   \n",
      "1        Civil marriage   Rented apartment      -12005          -4542   \n",
      "2               Married  House / apartment      -21474          -1134   \n",
      "3  Single / not married  House / apartment      -19110          -3051   \n",
      "4  Single / not married  House / apartment      -19110          -3051   \n",
      "\n",
      "   FLAG_MOBIL  FLAG_WORK_PHONE  FLAG_PHONE  FLAG_EMAIL OCCUPATION_TYPE  \\\n",
      "0           1                1           0           0             NaN   \n",
      "1           1                1           0           0             NaN   \n",
      "2           1                0           0           0  Security staff   \n",
      "3           1                0           1           1     Sales staff   \n",
      "4           1                0           1           1     Sales staff   \n",
      "\n",
      "   CNT_FAM_MEMBERS  overdue_likelihood  \n",
      "0              2.0            0.133333  \n",
      "1              2.0            0.142857  \n",
      "2              2.0            0.500000  \n",
      "3              1.0            1.000000  \n",
      "4              1.0            0.285714  \n",
      "33110\n"
     ]
    }
   ],
   "source": [
    "merged_df = pd.merge(customer_df, result_df, on='ID', how='inner')\n",
    "print(merged_df.head())\n",
    "#print(len(merged_df['ID'].unique()))"
   ]
  },
  {
   "cell_type": "markdown",
   "id": "8ae813e4",
   "metadata": {},
   "source": [
    "# TODO:\n",
    "- overdue-likelyhood zu labels\n",
    "- encoden\n",
    "    - Eig geht fast alles ordinal encoded\n",
    "    - OCCUPATION_TYPE fliegt ganz raus\n",
    "- scalen\n",
    "- random forest\n",
    "\n",
    "\n",
    "\n",
    "\n",
    "## Modeling"
   ]
  },
  {
   "cell_type": "markdown",
   "id": "84505270",
   "metadata": {},
   "source": [
    "## Evaluation"
   ]
  },
  {
   "cell_type": "code",
   "execution_count": null,
   "id": "b3357a52",
   "metadata": {},
   "outputs": [],
   "source": []
  }
 ],
 "metadata": {
  "kernelspec": {
   "display_name": "Python 3 (ipykernel)",
   "language": "python",
   "name": "python3"
  },
  "language_info": {
   "codemirror_mode": {
    "name": "ipython",
    "version": 3
   },
   "file_extension": ".py",
   "mimetype": "text/x-python",
   "name": "python",
   "nbconvert_exporter": "python",
   "pygments_lexer": "ipython3",
   "version": "3.11.5"
  }
 },
 "nbformat": 4,
 "nbformat_minor": 5
}
