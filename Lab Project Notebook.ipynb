{
 "cells": [
  {
   "cell_type": "markdown",
   "id": "5dab942d",
   "metadata": {},
   "source": [
    "# Business Understanding"
   ]
  },
  {
   "cell_type": "markdown",
   "id": "2d7e57de",
   "metadata": {},
   "source": [
    "# Data Understanding"
   ]
  },
  {
   "cell_type": "markdown",
   "id": "a6219f95",
   "metadata": {},
   "source": [
    "Imports"
   ]
  },
  {
   "cell_type": "code",
   "execution_count": 50,
   "id": "511113b5",
   "metadata": {},
   "outputs": [],
   "source": [
    "import pandas as pd"
   ]
  },
  {
   "cell_type": "markdown",
   "id": "ec1c65ba",
   "metadata": {},
   "source": [
    "Load Data"
   ]
  },
  {
   "cell_type": "code",
   "execution_count": 51,
   "id": "2b7027e5",
   "metadata": {},
   "outputs": [],
   "source": [
    "customer_df = pd.read_csv(\"Data/application_record.csv\")\n",
    "credit_df = pd.read_csv(\"Data/credit_record.csv\")"
   ]
  },
  {
   "cell_type": "markdown",
   "id": "f6d875a2",
   "metadata": {},
   "source": [
    "Get some information"
   ]
  },
  {
   "cell_type": "code",
   "execution_count": 52,
   "id": "0fd8bf95",
   "metadata": {},
   "outputs": [
    {
     "name": "stdout",
     "output_type": "stream",
     "text": [
      "<class 'pandas.core.frame.DataFrame'>\n",
      "RangeIndex: 438557 entries, 0 to 438556\n",
      "Data columns (total 18 columns):\n",
      " #   Column               Non-Null Count   Dtype  \n",
      "---  ------               --------------   -----  \n",
      " 0   ID                   438557 non-null  int64  \n",
      " 1   CODE_GENDER          438557 non-null  object \n",
      " 2   FLAG_OWN_CAR         438557 non-null  object \n",
      " 3   FLAG_OWN_REALTY      438557 non-null  object \n",
      " 4   CNT_CHILDREN         438557 non-null  int64  \n",
      " 5   AMT_INCOME_TOTAL     438557 non-null  float64\n",
      " 6   NAME_INCOME_TYPE     438557 non-null  object \n",
      " 7   NAME_EDUCATION_TYPE  438557 non-null  object \n",
      " 8   NAME_FAMILY_STATUS   438557 non-null  object \n",
      " 9   NAME_HOUSING_TYPE    438557 non-null  object \n",
      " 10  DAYS_BIRTH           438557 non-null  int64  \n",
      " 11  DAYS_EMPLOYED        438557 non-null  int64  \n",
      " 12  FLAG_MOBIL           438557 non-null  int64  \n",
      " 13  FLAG_WORK_PHONE      438557 non-null  int64  \n",
      " 14  FLAG_PHONE           438557 non-null  int64  \n",
      " 15  FLAG_EMAIL           438557 non-null  int64  \n",
      " 16  OCCUPATION_TYPE      304354 non-null  object \n",
      " 17  CNT_FAM_MEMBERS      438557 non-null  float64\n",
      "dtypes: float64(2), int64(8), object(8)\n",
      "memory usage: 60.2+ MB\n"
     ]
    }
   ],
   "source": [
    "customer_df.info()"
   ]
  },
  {
   "cell_type": "code",
   "execution_count": 53,
   "id": "e75cab7b",
   "metadata": {},
   "outputs": [
    {
     "name": "stdout",
     "output_type": "stream",
     "text": [
      "<class 'pandas.core.frame.DataFrame'>\n",
      "RangeIndex: 1048575 entries, 0 to 1048574\n",
      "Data columns (total 3 columns):\n",
      " #   Column          Non-Null Count    Dtype \n",
      "---  ------          --------------    ----- \n",
      " 0   ID              1048575 non-null  int64 \n",
      " 1   MONTHS_BALANCE  1048575 non-null  int64 \n",
      " 2   STATUS          1048575 non-null  object\n",
      "dtypes: int64(2), object(1)\n",
      "memory usage: 24.0+ MB\n"
     ]
    }
   ],
   "source": [
    "credit_df.info()"
   ]
  },
  {
   "cell_type": "code",
   "execution_count": 54,
   "id": "e9dc325c",
   "metadata": {},
   "outputs": [
    {
     "data": {
      "text/plain": [
       "45985"
      ]
     },
     "execution_count": 54,
     "metadata": {},
     "output_type": "execute_result"
    }
   ],
   "source": [
    "len(credit_df['ID'].unique())"
   ]
  },
  {
   "cell_type": "markdown",
   "id": "9095aa58",
   "metadata": {},
   "source": [
    "This means we have Credit Data about 45985 customers."
   ]
  },
  {
   "cell_type": "markdown",
   "id": "61340257",
   "metadata": {},
   "source": [
    "# Data Preparation"
   ]
  },
  {
   "cell_type": "markdown",
   "id": "c37e164e",
   "metadata": {},
   "source": [
    "Get the overdue likelyhood for the customers:"
   ]
  },
  {
   "cell_type": "code",
   "execution_count": 55,
   "id": "d62cc308",
   "metadata": {},
   "outputs": [
    {
     "name": "stdout",
     "output_type": "stream",
     "text": [
      "STATUS       ID  overdue_likelihood\n",
      "0       5001711            1.000000\n",
      "1       5001712            0.526316\n",
      "2       5001713                 NaN\n",
      "3       5001714                 NaN\n",
      "4       5001715                 NaN\n",
      "The number of entries with NaN values in overdue_likelihood: 4536\n"
     ]
    }
   ],
   "source": [
    "import pandas as pd\n",
    "\n",
    "grouped_df = credit_df.groupby('ID')['STATUS'].value_counts().unstack(fill_value=0)\n",
    "\n",
    "grouped_df['overdue_likelihood'] = 1 - (grouped_df['C'] / (grouped_df.sum(axis=1) - grouped_df['X']))\n",
    "\n",
    "result_df = grouped_df.reset_index()[['ID', 'overdue_likelihood']]\n",
    "\n",
    "print(result_df.head())\n",
    "\n",
    "nan_count = result_df['overdue_likelihood'].isna().sum()\n",
    "\n",
    "print(f'The number of entries with NaN values in overdue_likelihood: {nan_count}')\n"
   ]
  },
  {
   "cell_type": "markdown",
   "id": "91ff13a5",
   "metadata": {},
   "source": [
    "That means ca. 33110 customers are really usable."
   ]
  },
  {
   "cell_type": "markdown",
   "id": "2a2aa80c",
   "metadata": {},
   "source": [
    "Remove NaN entrys"
   ]
  },
  {
   "cell_type": "code",
   "execution_count": 56,
   "id": "2461462c",
   "metadata": {},
   "outputs": [
    {
     "name": "stdout",
     "output_type": "stream",
     "text": [
      "The number of entries with NaN values in overdue_likelihood: 0\n"
     ]
    }
   ],
   "source": [
    "result_df.dropna(subset=['overdue_likelihood'], inplace=True)\n",
    "nan_count = result_df['overdue_likelihood'].isna().sum()\n",
    "\n",
    "print(f'The number of entries with NaN values in overdue_likelihood: {nan_count}')"
   ]
  },
  {
   "cell_type": "markdown",
   "id": "421c5c50",
   "metadata": {},
   "source": [
    "Merge the data:"
   ]
  },
  {
   "cell_type": "code",
   "execution_count": 57,
   "id": "79178d71",
   "metadata": {},
   "outputs": [
    {
     "name": "stdout",
     "output_type": "stream",
     "text": [
      "        ID CODE_GENDER FLAG_OWN_CAR FLAG_OWN_REALTY  CNT_CHILDREN  \\\n",
      "0  5008804           M            Y               Y             0   \n",
      "1  5008805           M            Y               Y             0   \n",
      "2  5008806           M            Y               Y             0   \n",
      "3  5008808           F            N               Y             0   \n",
      "4  5008810           F            N               Y             0   \n",
      "\n",
      "   AMT_INCOME_TOTAL      NAME_INCOME_TYPE            NAME_EDUCATION_TYPE  \\\n",
      "0          427500.0               Working               Higher education   \n",
      "1          427500.0               Working               Higher education   \n",
      "2          112500.0               Working  Secondary / secondary special   \n",
      "3          270000.0  Commercial associate  Secondary / secondary special   \n",
      "4          270000.0  Commercial associate  Secondary / secondary special   \n",
      "\n",
      "     NAME_FAMILY_STATUS  NAME_HOUSING_TYPE  DAYS_BIRTH  DAYS_EMPLOYED  \\\n",
      "0        Civil marriage   Rented apartment      -12005          -4542   \n",
      "1        Civil marriage   Rented apartment      -12005          -4542   \n",
      "2               Married  House / apartment      -21474          -1134   \n",
      "3  Single / not married  House / apartment      -19110          -3051   \n",
      "4  Single / not married  House / apartment      -19110          -3051   \n",
      "\n",
      "   FLAG_MOBIL  FLAG_WORK_PHONE  FLAG_PHONE  FLAG_EMAIL OCCUPATION_TYPE  \\\n",
      "0           1                1           0           0             NaN   \n",
      "1           1                1           0           0             NaN   \n",
      "2           1                0           0           0  Security staff   \n",
      "3           1                0           1           1     Sales staff   \n",
      "4           1                0           1           1     Sales staff   \n",
      "\n",
      "   CNT_FAM_MEMBERS  overdue_likelihood  \n",
      "0              2.0            0.133333  \n",
      "1              2.0            0.142857  \n",
      "2              2.0            0.500000  \n",
      "3              1.0            1.000000  \n",
      "4              1.0            0.285714  \n",
      "33110\n"
     ]
    }
   ],
   "source": [
    "merged_df = pd.merge(customer_df, result_df, on='ID', how='inner')\n",
    "print(merged_df.head())\n",
    "print(len(merged_df['ID'].unique()))"
   ]
  },
  {
   "cell_type": "markdown",
   "id": "8ae813e4",
   "metadata": {},
   "source": [
    "# Modeling"
   ]
  },
  {
   "cell_type": "markdown",
   "id": "84505270",
   "metadata": {},
   "source": [
    "# Evaluation"
   ]
  },
  {
   "cell_type": "code",
   "execution_count": null,
   "id": "b3357a52",
   "metadata": {},
   "outputs": [],
   "source": []
  }
 ],
 "metadata": {
  "kernelspec": {
   "display_name": "Python 3 (ipykernel)",
   "language": "python",
   "name": "python3"
  },
  "language_info": {
   "codemirror_mode": {
    "name": "ipython",
    "version": 3
   },
   "file_extension": ".py",
   "mimetype": "text/x-python",
   "name": "python",
   "nbconvert_exporter": "python",
   "pygments_lexer": "ipython3",
   "version": "3.11.5"
  }
 },
 "nbformat": 4,
 "nbformat_minor": 5
}
